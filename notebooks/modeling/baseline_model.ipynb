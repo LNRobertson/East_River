{
 "cells": [
  {
   "cell_type": "markdown",
   "metadata": {},
   "source": [
    "# Baseline Model with XGBoost"
   ]
  },
  {
   "cell_type": "code",
   "execution_count": 1,
   "metadata": {},
   "outputs": [],
   "source": [
    "import pandas as pd\n",
    "\n",
    "load_forecasts_df = pd.read_hdf(r'C:\\Users\\Linds\\Repos\\East_River\\data\\training\\east_river_processed_dataset-v1.h5')"
   ]
  },
  {
   "cell_type": "code",
   "execution_count": 2,
   "metadata": {},
   "outputs": [
    {
     "data": {
      "text/html": [
       "<div>\n",
       "<style scoped>\n",
       "    .dataframe tbody tr th:only-of-type {\n",
       "        vertical-align: middle;\n",
       "    }\n",
       "\n",
       "    .dataframe tbody tr th {\n",
       "        vertical-align: top;\n",
       "    }\n",
       "\n",
       "    .dataframe thead th {\n",
       "        text-align: right;\n",
       "    }\n",
       "</style>\n",
       "<table border=\"1\" class=\"dataframe\">\n",
       "  <thead>\n",
       "    <tr style=\"text-align: right;\">\n",
       "      <th></th>\n",
       "      <th>datetime</th>\n",
       "      <th>temperature</th>\n",
       "      <th>wind_speed</th>\n",
       "      <th>wind_degree</th>\n",
       "      <th>humidity</th>\n",
       "      <th>visibility</th>\n",
       "      <th>pressure</th>\n",
       "      <th>cloudcover</th>\n",
       "      <th>windgust</th>\n",
       "      <th>uv_index</th>\n",
       "      <th>...</th>\n",
       "      <th>wind_dir_S</th>\n",
       "      <th>wind_dir_SE</th>\n",
       "      <th>wind_dir_SSE</th>\n",
       "      <th>wind_dir_SSW</th>\n",
       "      <th>wind_dir_SW</th>\n",
       "      <th>wind_dir_W</th>\n",
       "      <th>wind_dir_WNW</th>\n",
       "      <th>wind_dir_WSW</th>\n",
       "      <th>weather_event_normal</th>\n",
       "      <th>weather_event_storm</th>\n",
       "    </tr>\n",
       "  </thead>\n",
       "  <tbody>\n",
       "    <tr>\n",
       "      <th>6304</th>\n",
       "      <td>2021-01-01 00:00:00+00:00</td>\n",
       "      <td>19.0</td>\n",
       "      <td>6.0</td>\n",
       "      <td>184.0</td>\n",
       "      <td>91.0</td>\n",
       "      <td>6.0</td>\n",
       "      <td>30.120</td>\n",
       "      <td>16.0</td>\n",
       "      <td>14.0</td>\n",
       "      <td>1.0</td>\n",
       "      <td>...</td>\n",
       "      <td>True</td>\n",
       "      <td>False</td>\n",
       "      <td>False</td>\n",
       "      <td>False</td>\n",
       "      <td>False</td>\n",
       "      <td>False</td>\n",
       "      <td>False</td>\n",
       "      <td>False</td>\n",
       "      <td>True</td>\n",
       "      <td>False</td>\n",
       "    </tr>\n",
       "    <tr>\n",
       "      <th>6595</th>\n",
       "      <td>2021-01-01 00:30:00+00:00</td>\n",
       "      <td>18.5</td>\n",
       "      <td>6.0</td>\n",
       "      <td>186.0</td>\n",
       "      <td>91.0</td>\n",
       "      <td>6.0</td>\n",
       "      <td>30.135</td>\n",
       "      <td>13.5</td>\n",
       "      <td>14.0</td>\n",
       "      <td>1.0</td>\n",
       "      <td>...</td>\n",
       "      <td>True</td>\n",
       "      <td>False</td>\n",
       "      <td>False</td>\n",
       "      <td>False</td>\n",
       "      <td>False</td>\n",
       "      <td>False</td>\n",
       "      <td>False</td>\n",
       "      <td>False</td>\n",
       "      <td>True</td>\n",
       "      <td>False</td>\n",
       "    </tr>\n",
       "    <tr>\n",
       "      <th>6730</th>\n",
       "      <td>2021-01-01 01:00:00+00:00</td>\n",
       "      <td>18.0</td>\n",
       "      <td>6.0</td>\n",
       "      <td>188.0</td>\n",
       "      <td>91.0</td>\n",
       "      <td>6.0</td>\n",
       "      <td>30.150</td>\n",
       "      <td>11.0</td>\n",
       "      <td>14.0</td>\n",
       "      <td>1.0</td>\n",
       "      <td>...</td>\n",
       "      <td>True</td>\n",
       "      <td>False</td>\n",
       "      <td>False</td>\n",
       "      <td>False</td>\n",
       "      <td>False</td>\n",
       "      <td>False</td>\n",
       "      <td>False</td>\n",
       "      <td>False</td>\n",
       "      <td>True</td>\n",
       "      <td>False</td>\n",
       "    </tr>\n",
       "    <tr>\n",
       "      <th>6797</th>\n",
       "      <td>2021-01-01 01:30:00+00:00</td>\n",
       "      <td>18.0</td>\n",
       "      <td>6.0</td>\n",
       "      <td>190.0</td>\n",
       "      <td>91.0</td>\n",
       "      <td>6.0</td>\n",
       "      <td>30.150</td>\n",
       "      <td>9.0</td>\n",
       "      <td>13.0</td>\n",
       "      <td>1.0</td>\n",
       "      <td>...</td>\n",
       "      <td>True</td>\n",
       "      <td>False</td>\n",
       "      <td>False</td>\n",
       "      <td>False</td>\n",
       "      <td>False</td>\n",
       "      <td>False</td>\n",
       "      <td>False</td>\n",
       "      <td>False</td>\n",
       "      <td>True</td>\n",
       "      <td>False</td>\n",
       "    </tr>\n",
       "    <tr>\n",
       "      <th>6971</th>\n",
       "      <td>2021-01-01 02:00:00+00:00</td>\n",
       "      <td>18.0</td>\n",
       "      <td>6.0</td>\n",
       "      <td>192.0</td>\n",
       "      <td>91.0</td>\n",
       "      <td>6.0</td>\n",
       "      <td>30.150</td>\n",
       "      <td>7.0</td>\n",
       "      <td>12.0</td>\n",
       "      <td>1.0</td>\n",
       "      <td>...</td>\n",
       "      <td>False</td>\n",
       "      <td>False</td>\n",
       "      <td>False</td>\n",
       "      <td>True</td>\n",
       "      <td>False</td>\n",
       "      <td>False</td>\n",
       "      <td>False</td>\n",
       "      <td>False</td>\n",
       "      <td>True</td>\n",
       "      <td>False</td>\n",
       "    </tr>\n",
       "  </tbody>\n",
       "</table>\n",
       "<p>5 rows × 120 columns</p>\n",
       "</div>"
      ],
      "text/plain": [
       "                      datetime  temperature  wind_speed  wind_degree  \\\n",
       "6304 2021-01-01 00:00:00+00:00         19.0         6.0        184.0   \n",
       "6595 2021-01-01 00:30:00+00:00         18.5         6.0        186.0   \n",
       "6730 2021-01-01 01:00:00+00:00         18.0         6.0        188.0   \n",
       "6797 2021-01-01 01:30:00+00:00         18.0         6.0        190.0   \n",
       "6971 2021-01-01 02:00:00+00:00         18.0         6.0        192.0   \n",
       "\n",
       "      humidity  visibility  pressure  cloudcover  windgust  uv_index  ...  \\\n",
       "6304      91.0         6.0    30.120        16.0      14.0       1.0  ...   \n",
       "6595      91.0         6.0    30.135        13.5      14.0       1.0  ...   \n",
       "6730      91.0         6.0    30.150        11.0      14.0       1.0  ...   \n",
       "6797      91.0         6.0    30.150         9.0      13.0       1.0  ...   \n",
       "6971      91.0         6.0    30.150         7.0      12.0       1.0  ...   \n",
       "\n",
       "      wind_dir_S  wind_dir_SE  wind_dir_SSE  wind_dir_SSW  wind_dir_SW  \\\n",
       "6304        True        False         False         False        False   \n",
       "6595        True        False         False         False        False   \n",
       "6730        True        False         False         False        False   \n",
       "6797        True        False         False         False        False   \n",
       "6971       False        False         False          True        False   \n",
       "\n",
       "      wind_dir_W  wind_dir_WNW  wind_dir_WSW  weather_event_normal  \\\n",
       "6304       False         False         False                  True   \n",
       "6595       False         False         False                  True   \n",
       "6730       False         False         False                  True   \n",
       "6797       False         False         False                  True   \n",
       "6971       False         False         False                  True   \n",
       "\n",
       "      weather_event_storm  \n",
       "6304                False  \n",
       "6595                False  \n",
       "6730                False  \n",
       "6797                False  \n",
       "6971                False  \n",
       "\n",
       "[5 rows x 120 columns]"
      ]
     },
     "execution_count": 2,
     "metadata": {},
     "output_type": "execute_result"
    }
   ],
   "source": [
    "load_forecasts_df.head()"
   ]
  },
  {
   "cell_type": "code",
   "execution_count": 3,
   "metadata": {},
   "outputs": [
    {
     "name": "stdout",
     "output_type": "stream",
     "text": [
      "['datetime', 'temperature', 'wind_speed', 'wind_degree', 'humidity', 'visibility', 'pressure', 'cloudcover', 'windgust', 'uv_index', 'snowfall', 'snow_depth', 'relative_humidity_2m', 'global_tilted_irradiance', 'diffuse_radiation', 'pressure_msl', 'surface_pressure', 'blended_precip', 'OnLine_Load_MW', 'Load_Control_MW', 'Control_Threshold_MW', 'local_time', 'is_weekend', 'is_holiday', 'hour', 'minute', 'day', 'month', 'year', 'hour_sin', 'hour_cos', 'day_of_week_num', 'load_lag_3_rolling_std_3', 'load_lag_3_rolling_std_6', 'load_lag_3_rolling_std_12', 'load_diff_1', 'load_diff_24hr', 'load_lag_3_rolling_std_24hrs', 'last_control_time', 'time_since_control_minutes', 'peak_diff', 'time_since_peak_minutes', 'precip_sum_6hrs', 'day_of_year_sin', 'day_of_year_cos', 'prev_day_peak', 'prev_day_avg', 'prev_week_peak', 'temp_humidity_interaction', 'wind_precip_interaction', 'was_controlled', 'load_lag_1_rolling_mean_6hrs', 'load_lag_1_rolling_std_6hrs', 'load_lag_1_rolling_std_24hrs', 'day_of_week_Monday', 'day_of_week_Saturday', 'day_of_week_Sunday', 'day_of_week_Thursday', 'day_of_week_Tuesday', 'day_of_week_Wednesday', 'weather_descriptions_Blowing snow', 'weather_descriptions_Clear', 'weather_descriptions_Cloudy', 'weather_descriptions_Fog', 'weather_descriptions_Freezing drizzle', 'weather_descriptions_Freezing fog', 'weather_descriptions_Heavy freezing drizzle', 'weather_descriptions_Heavy rain', 'weather_descriptions_Heavy rain at times', 'weather_descriptions_Heavy snow', 'weather_descriptions_Ice pellets', 'weather_descriptions_Light drizzle', 'weather_descriptions_Light freezing rain', 'weather_descriptions_Light rain', 'weather_descriptions_Light rain shower', 'weather_descriptions_Light showers of ice pellets', 'weather_descriptions_Light sleet', 'weather_descriptions_Light sleet showers', 'weather_descriptions_Light snow', 'weather_descriptions_Light snow showers', 'weather_descriptions_Mist', 'weather_descriptions_Moderate or heavy freezing rain', 'weather_descriptions_Moderate or heavy rain shower', 'weather_descriptions_Moderate or heavy rain with thunder', 'weather_descriptions_Moderate or heavy sleet', 'weather_descriptions_Moderate or heavy sleet showers', 'weather_descriptions_Moderate or heavy snow showers', 'weather_descriptions_Moderate rain', 'weather_descriptions_Moderate rain at times', 'weather_descriptions_Moderate snow', 'weather_descriptions_Overcast', 'weather_descriptions_Partly cloudy', 'weather_descriptions_Patchy heavy snow', 'weather_descriptions_Patchy light drizzle', 'weather_descriptions_Patchy light rain', 'weather_descriptions_Patchy light rain with thunder', 'weather_descriptions_Patchy light snow', 'weather_descriptions_Patchy moderate snow', 'weather_descriptions_Patchy rain possible', 'weather_descriptions_Patchy snow possible', 'weather_descriptions_Sunny', 'weather_descriptions_Thundery outbreaks possible', 'weather_descriptions_Torrential rain shower', 'wind_dir_ENE', 'wind_dir_ESE', 'wind_dir_N', 'wind_dir_NE', 'wind_dir_NNE', 'wind_dir_NNW', 'wind_dir_NW', 'wind_dir_S', 'wind_dir_SE', 'wind_dir_SSE', 'wind_dir_SSW', 'wind_dir_SW', 'wind_dir_W', 'wind_dir_WNW', 'wind_dir_WSW', 'weather_event_normal', 'weather_event_storm']\n"
     ]
    }
   ],
   "source": [
    "print(load_forecasts_df.columns.to_list())"
   ]
  },
  {
   "cell_type": "code",
   "execution_count": 4,
   "metadata": {},
   "outputs": [],
   "source": [
    "load_forecasts_df.drop('local_time', axis=1, inplace=True)"
   ]
  },
  {
   "cell_type": "code",
   "execution_count": 5,
   "metadata": {},
   "outputs": [
    {
     "name": "stdout",
     "output_type": "stream",
     "text": [
      "Number of features: 119\n"
     ]
    }
   ],
   "source": [
    "print(\"Number of features:\", load_forecasts_df.shape[1])"
   ]
  },
  {
   "cell_type": "code",
   "execution_count": 25,
   "metadata": {},
   "outputs": [
    {
     "ename": "MemoryError",
     "evalue": "Unable to allocate 3.79 GiB for an array with shape (42, 12101700) and data type float64",
     "output_type": "error",
     "traceback": [
      "\u001b[1;31m---------------------------------------------------------------------------\u001b[0m",
      "\u001b[1;31mMemoryError\u001b[0m                               Traceback (most recent call last)",
      "Cell \u001b[1;32mIn[25], line 4\u001b[0m\n\u001b[0;32m      1\u001b[0m \u001b[38;5;28;01mimport\u001b[39;00m \u001b[38;5;21;01mdask\u001b[39;00m\u001b[38;5;21;01m.\u001b[39;00m\u001b[38;5;21;01mdataframe\u001b[39;00m \u001b[38;5;28;01mas\u001b[39;00m \u001b[38;5;21;01mdd\u001b[39;00m\n\u001b[0;32m      3\u001b[0m \u001b[38;5;66;03m# Create a Dask DataFrame from the existing pandas DataFrame in multiple partitions\u001b[39;00m\n\u001b[1;32m----> 4\u001b[0m dask_df \u001b[38;5;241m=\u001b[39m \u001b[43mdd\u001b[49m\u001b[38;5;241;43m.\u001b[39;49m\u001b[43mfrom_pandas\u001b[49m\u001b[43m(\u001b[49m\u001b[43mload_forecasts_df\u001b[49m\u001b[43m,\u001b[49m\u001b[43m \u001b[49m\u001b[43mnpartitions\u001b[49m\u001b[38;5;241;43m=\u001b[39;49m\u001b[38;5;241;43m10\u001b[39;49m\u001b[43m)\u001b[49m\n\u001b[0;32m      6\u001b[0m \u001b[38;5;66;03m# Sort by 'datetime' by setting it as the index using disk-based shuffling to reduce memory usage\u001b[39;00m\n\u001b[0;32m      7\u001b[0m sorted_dask_df \u001b[38;5;241m=\u001b[39m dask_df\u001b[38;5;241m.\u001b[39mset_index(\u001b[38;5;124m'\u001b[39m\u001b[38;5;124mdatetime\u001b[39m\u001b[38;5;124m'\u001b[39m, \u001b[38;5;28msorted\u001b[39m\u001b[38;5;241m=\u001b[39m\u001b[38;5;28;01mFalse\u001b[39;00m, shuffle\u001b[38;5;241m=\u001b[39m\u001b[38;5;124m'\u001b[39m\u001b[38;5;124mdisk\u001b[39m\u001b[38;5;124m'\u001b[39m)\n",
      "File \u001b[1;32mc:\\Users\\Linds\\anaconda3\\envs\\load_forecasting_env\\Lib\\site-packages\\dask\\dataframe\\dask_expr\\_collection.py:4915\u001b[0m, in \u001b[0;36mfrom_pandas\u001b[1;34m(data, npartitions, sort, chunksize)\u001b[0m\n\u001b[0;32m   4907\u001b[0m     \u001b[38;5;28;01mraise\u001b[39;00m \u001b[38;5;167;01mTypeError\u001b[39;00m(\n\u001b[0;32m   4908\u001b[0m         \u001b[38;5;124m\"\u001b[39m\u001b[38;5;124mPlease provide chunksize as an int, or possibly as None if you specify npartitions.\u001b[39m\u001b[38;5;124m\"\u001b[39m\n\u001b[0;32m   4909\u001b[0m     )\n\u001b[0;32m   4911\u001b[0m \u001b[38;5;28;01mfrom\u001b[39;00m \u001b[38;5;21;01mdask\u001b[39;00m\u001b[38;5;21;01m.\u001b[39;00m\u001b[38;5;21;01mdataframe\u001b[39;00m\u001b[38;5;21;01m.\u001b[39;00m\u001b[38;5;21;01mdask_expr\u001b[39;00m\u001b[38;5;21;01m.\u001b[39;00m\u001b[38;5;21;01mio\u001b[39;00m\u001b[38;5;21;01m.\u001b[39;00m\u001b[38;5;21;01mio\u001b[39;00m \u001b[38;5;28;01mimport\u001b[39;00m FromPandas\n\u001b[0;32m   4913\u001b[0m \u001b[38;5;28;01mreturn\u001b[39;00m new_collection(\n\u001b[0;32m   4914\u001b[0m     FromPandas(\n\u001b[1;32m-> 4915\u001b[0m         _BackendData(\u001b[43mdata\u001b[49m\u001b[38;5;241;43m.\u001b[39;49m\u001b[43mcopy\u001b[49m\u001b[43m(\u001b[49m\u001b[43m)\u001b[49m),\n\u001b[0;32m   4916\u001b[0m         npartitions\u001b[38;5;241m=\u001b[39mnpartitions,\n\u001b[0;32m   4917\u001b[0m         sort\u001b[38;5;241m=\u001b[39msort,\n\u001b[0;32m   4918\u001b[0m         chunksize\u001b[38;5;241m=\u001b[39mchunksize,\n\u001b[0;32m   4919\u001b[0m         pyarrow_strings_enabled\u001b[38;5;241m=\u001b[39mpyarrow_strings_enabled(),\n\u001b[0;32m   4920\u001b[0m     )\n\u001b[0;32m   4921\u001b[0m )\n",
      "File \u001b[1;32mc:\\Users\\Linds\\anaconda3\\envs\\load_forecasting_env\\Lib\\site-packages\\pandas\\core\\generic.py:6685\u001b[0m, in \u001b[0;36mNDFrame.copy\u001b[1;34m(self, deep)\u001b[0m\n\u001b[0;32m   6553\u001b[0m \u001b[38;5;129m@final\u001b[39m\n\u001b[0;32m   6554\u001b[0m \u001b[38;5;28;01mdef\u001b[39;00m \u001b[38;5;21mcopy\u001b[39m(\u001b[38;5;28mself\u001b[39m, deep: bool_t \u001b[38;5;241m|\u001b[39m \u001b[38;5;28;01mNone\u001b[39;00m \u001b[38;5;241m=\u001b[39m \u001b[38;5;28;01mTrue\u001b[39;00m) \u001b[38;5;241m-\u001b[39m\u001b[38;5;241m>\u001b[39m Self:\n\u001b[0;32m   6555\u001b[0m \u001b[38;5;250m    \u001b[39m\u001b[38;5;124;03m\"\"\"\u001b[39;00m\n\u001b[0;32m   6556\u001b[0m \u001b[38;5;124;03m    Make a copy of this object's indices and data.\u001b[39;00m\n\u001b[0;32m   6557\u001b[0m \n\u001b[1;32m   (...)\u001b[0m\n\u001b[0;32m   6683\u001b[0m \u001b[38;5;124;03m    dtype: int64\u001b[39;00m\n\u001b[0;32m   6684\u001b[0m \u001b[38;5;124;03m    \"\"\"\u001b[39;00m\n\u001b[1;32m-> 6685\u001b[0m     data \u001b[38;5;241m=\u001b[39m \u001b[38;5;28;43mself\u001b[39;49m\u001b[38;5;241;43m.\u001b[39;49m\u001b[43m_mgr\u001b[49m\u001b[38;5;241;43m.\u001b[39;49m\u001b[43mcopy\u001b[49m\u001b[43m(\u001b[49m\u001b[43mdeep\u001b[49m\u001b[38;5;241;43m=\u001b[39;49m\u001b[43mdeep\u001b[49m\u001b[43m)\u001b[49m\n\u001b[0;32m   6686\u001b[0m     \u001b[38;5;28mself\u001b[39m\u001b[38;5;241m.\u001b[39m_clear_item_cache()\n\u001b[0;32m   6687\u001b[0m     \u001b[38;5;28;01mreturn\u001b[39;00m \u001b[38;5;28mself\u001b[39m\u001b[38;5;241m.\u001b[39m_constructor_from_mgr(data, axes\u001b[38;5;241m=\u001b[39mdata\u001b[38;5;241m.\u001b[39maxes)\u001b[38;5;241m.\u001b[39m__finalize__(\n\u001b[0;32m   6688\u001b[0m         \u001b[38;5;28mself\u001b[39m, method\u001b[38;5;241m=\u001b[39m\u001b[38;5;124m\"\u001b[39m\u001b[38;5;124mcopy\u001b[39m\u001b[38;5;124m\"\u001b[39m\n\u001b[0;32m   6689\u001b[0m     )\n",
      "File \u001b[1;32mc:\\Users\\Linds\\anaconda3\\envs\\load_forecasting_env\\Lib\\site-packages\\pandas\\core\\internals\\managers.py:576\u001b[0m, in \u001b[0;36mBaseBlockManager.copy\u001b[1;34m(self, deep)\u001b[0m\n\u001b[0;32m    573\u001b[0m     \u001b[38;5;28;01melse\u001b[39;00m:\n\u001b[0;32m    574\u001b[0m         new_axes \u001b[38;5;241m=\u001b[39m \u001b[38;5;28mlist\u001b[39m(\u001b[38;5;28mself\u001b[39m\u001b[38;5;241m.\u001b[39maxes)\n\u001b[1;32m--> 576\u001b[0m res \u001b[38;5;241m=\u001b[39m \u001b[38;5;28;43mself\u001b[39;49m\u001b[38;5;241;43m.\u001b[39;49m\u001b[43mapply\u001b[49m\u001b[43m(\u001b[49m\u001b[38;5;124;43m\"\u001b[39;49m\u001b[38;5;124;43mcopy\u001b[39;49m\u001b[38;5;124;43m\"\u001b[39;49m\u001b[43m,\u001b[49m\u001b[43m \u001b[49m\u001b[43mdeep\u001b[49m\u001b[38;5;241;43m=\u001b[39;49m\u001b[43mdeep\u001b[49m\u001b[43m)\u001b[49m\n\u001b[0;32m    577\u001b[0m res\u001b[38;5;241m.\u001b[39maxes \u001b[38;5;241m=\u001b[39m new_axes\n\u001b[0;32m    579\u001b[0m \u001b[38;5;28;01mif\u001b[39;00m \u001b[38;5;28mself\u001b[39m\u001b[38;5;241m.\u001b[39mndim \u001b[38;5;241m>\u001b[39m \u001b[38;5;241m1\u001b[39m:\n\u001b[0;32m    580\u001b[0m     \u001b[38;5;66;03m# Avoid needing to re-compute these\u001b[39;00m\n",
      "File \u001b[1;32mc:\\Users\\Linds\\anaconda3\\envs\\load_forecasting_env\\Lib\\site-packages\\pandas\\core\\internals\\managers.py:354\u001b[0m, in \u001b[0;36mBaseBlockManager.apply\u001b[1;34m(self, f, align_keys, **kwargs)\u001b[0m\n\u001b[0;32m    352\u001b[0m         applied \u001b[38;5;241m=\u001b[39m b\u001b[38;5;241m.\u001b[39mapply(f, \u001b[38;5;241m*\u001b[39m\u001b[38;5;241m*\u001b[39mkwargs)\n\u001b[0;32m    353\u001b[0m     \u001b[38;5;28;01melse\u001b[39;00m:\n\u001b[1;32m--> 354\u001b[0m         applied \u001b[38;5;241m=\u001b[39m \u001b[38;5;28;43mgetattr\u001b[39;49m\u001b[43m(\u001b[49m\u001b[43mb\u001b[49m\u001b[43m,\u001b[49m\u001b[43m \u001b[49m\u001b[43mf\u001b[49m\u001b[43m)\u001b[49m\u001b[43m(\u001b[49m\u001b[38;5;241;43m*\u001b[39;49m\u001b[38;5;241;43m*\u001b[39;49m\u001b[43mkwargs\u001b[49m\u001b[43m)\u001b[49m\n\u001b[0;32m    355\u001b[0m     result_blocks \u001b[38;5;241m=\u001b[39m extend_blocks(applied, result_blocks)\n\u001b[0;32m    357\u001b[0m out \u001b[38;5;241m=\u001b[39m \u001b[38;5;28mtype\u001b[39m(\u001b[38;5;28mself\u001b[39m)\u001b[38;5;241m.\u001b[39mfrom_blocks(result_blocks, \u001b[38;5;28mself\u001b[39m\u001b[38;5;241m.\u001b[39maxes)\n",
      "File \u001b[1;32mc:\\Users\\Linds\\anaconda3\\envs\\load_forecasting_env\\Lib\\site-packages\\pandas\\core\\internals\\blocks.py:645\u001b[0m, in \u001b[0;36mBlock.copy\u001b[1;34m(self, deep)\u001b[0m\n\u001b[0;32m    643\u001b[0m refs: BlockValuesRefs \u001b[38;5;241m|\u001b[39m \u001b[38;5;28;01mNone\u001b[39;00m\n\u001b[0;32m    644\u001b[0m \u001b[38;5;28;01mif\u001b[39;00m deep:\n\u001b[1;32m--> 645\u001b[0m     values \u001b[38;5;241m=\u001b[39m values\u001b[38;5;241m.\u001b[39mcopy()\n\u001b[0;32m    646\u001b[0m     refs \u001b[38;5;241m=\u001b[39m \u001b[38;5;28;01mNone\u001b[39;00m\n\u001b[0;32m    647\u001b[0m \u001b[38;5;28;01melse\u001b[39;00m:\n",
      "\u001b[1;31mMemoryError\u001b[0m: Unable to allocate 3.79 GiB for an array with shape (42, 12101700) and data type float64"
     ]
    }
   ],
   "source": [
    "import dask.dataframe as dd\n",
    "\n",
    "# Create a Dask DataFrame from the existing pandas DataFrame in multiple partitions\n",
    "dask_df = dd.from_pandas(load_forecasts_df, npartitions=10)\n",
    "\n",
    "# Sort by 'datetime' by setting it as the index using disk-based shuffling to reduce memory usage\n",
    "sorted_dask_df = dask_df.set_index('datetime', sorted=False, shuffle='disk')\n",
    "\n",
    "# Instead of computing the full sorted DataFrame which may lead to a MemoryError,\n",
    "# we compute only the head of the sorted Dask DataFrame to inspect its content.\n",
    "print(sorted_dask_df.head())"
   ]
  },
  {
   "cell_type": "code",
   "execution_count": null,
   "metadata": {},
   "outputs": [],
   "source": []
  },
  {
   "cell_type": "code",
   "execution_count": null,
   "metadata": {},
   "outputs": [],
   "source": []
  },
  {
   "cell_type": "code",
   "execution_count": 6,
   "metadata": {},
   "outputs": [],
   "source": [
    "import matplotlib.pyplot as plt"
   ]
  },
  {
   "cell_type": "code",
   "execution_count": 7,
   "metadata": {},
   "outputs": [
    {
     "name": "stderr",
     "output_type": "stream",
     "text": [
      "C:\\Users\\Linds\\AppData\\Local\\Temp\\ipykernel_15596\\562590228.py:9: UserWarning: Creating legend with loc=\"best\" can be slow with large amounts of data.\n",
      "  plt.tight_layout()\n"
     ]
    },
    {
     "data": {
      "image/png": "[encoded data removed]",
      "text/plain": [
       "<Figure size 1200x600 with 1 Axes>"
      ]
     },
     "metadata": {},
     "output_type": "display_data"
    }
   ],
   "source": [
    "\n",
    "\n",
    "plt.figure(figsize=(12,6))\n",
    "plt.plot(load_forecasts_df['datetime'], load_forecasts_df['OnLine_Load_MW'], label='Online_Load_MW')\n",
    "plt.plot(load_forecasts_df['datetime'], load_forecasts_df['Load_Control_MW'], label='Load_Control_MW')\n",
    "plt.plot(load_forecasts_df['datetime'], load_forecasts_df['Control_Threshold_MW'], label='Control_Threshold_MW')\n",
    "plt.xlabel('Datetime')\n",
    "plt.ylabel('MW')\n",
    "plt.title('Time Series Chart of Load Data')\n",
    "plt.legend()\n",
    "plt.tight_layout()\n",
    "plt.show()"
   ]
  },
  {
   "cell_type": "code",
   "execution_count": null,
   "metadata": {},
   "outputs": [],
   "source": []
  }
 ],
 "metadata": {
  "kernelspec": {
   "display_name": "load_forecasting_env",
   "language": "python",
   "name": "python3"
  },
  "language_info": {
   "codemirror_mode": {
    "name": "ipython",
    "version": 3
   },
   "file_extension": ".py",
   "mimetype": "text/x-python",
   "name": "python",
   "nbconvert_exporter": "python",
   "pygments_lexer": "ipython3",
   "version": "3.11.11"
  }
 },
 "nbformat": 4,
 "nbformat_minor": 2
}
