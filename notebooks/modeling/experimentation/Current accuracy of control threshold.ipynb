{
 "cells": [
  {
   "cell_type": "code",
   "execution_count": 4,
   "id": "d713b34b",
   "metadata": {},
   "outputs": [
    {
     "data": {
      "text/html": [
       "<div>\n",
       "<style scoped>\n",
       "    .dataframe tbody tr th:only-of-type {\n",
       "        vertical-align: middle;\n",
       "    }\n",
       "\n",
       "    .dataframe tbody tr th {\n",
       "        vertical-align: top;\n",
       "    }\n",
       "\n",
       "    .dataframe thead th {\n",
       "        text-align: right;\n",
       "    }\n",
       "</style>\n",
       "<table border=\"1\" class=\"dataframe\">\n",
       "  <thead>\n",
       "    <tr style=\"text-align: right;\">\n",
       "      <th></th>\n",
       "      <th>Unnamed: 0</th>\n",
       "      <th>Timestamp</th>\n",
       "      <th>OnLine_Load_MW</th>\n",
       "      <th>Load_Control_KW</th>\n",
       "      <th>Load_Control_MW</th>\n",
       "      <th>Estimated_Online_Load_Control_MW</th>\n",
       "      <th>Control_Threshold_MW</th>\n",
       "    </tr>\n",
       "  </thead>\n",
       "  <tbody>\n",
       "    <tr>\n",
       "      <th>0</th>\n",
       "      <td>0</td>\n",
       "      <td>1/1/2021 0:00</td>\n",
       "      <td>514.37</td>\n",
       "      <td>0.0</td>\n",
       "      <td>0.0</td>\n",
       "      <td>514.37</td>\n",
       "      <td>626.2</td>\n",
       "    </tr>\n",
       "    <tr>\n",
       "      <th>1</th>\n",
       "      <td>1</td>\n",
       "      <td>1/1/2021 0:30</td>\n",
       "      <td>505.76</td>\n",
       "      <td>0.0</td>\n",
       "      <td>0.0</td>\n",
       "      <td>505.76</td>\n",
       "      <td>572.0</td>\n",
       "    </tr>\n",
       "    <tr>\n",
       "      <th>2</th>\n",
       "      <td>2</td>\n",
       "      <td>1/1/2021 1:00</td>\n",
       "      <td>504.80</td>\n",
       "      <td>0.0</td>\n",
       "      <td>0.0</td>\n",
       "      <td>504.80</td>\n",
       "      <td>572.0</td>\n",
       "    </tr>\n",
       "    <tr>\n",
       "      <th>3</th>\n",
       "      <td>3</td>\n",
       "      <td>1/1/2021 1:30</td>\n",
       "      <td>499.74</td>\n",
       "      <td>0.0</td>\n",
       "      <td>0.0</td>\n",
       "      <td>499.74</td>\n",
       "      <td>572.0</td>\n",
       "    </tr>\n",
       "    <tr>\n",
       "      <th>4</th>\n",
       "      <td>4</td>\n",
       "      <td>1/1/2021 2:00</td>\n",
       "      <td>496.19</td>\n",
       "      <td>0.0</td>\n",
       "      <td>0.0</td>\n",
       "      <td>496.19</td>\n",
       "      <td>572.0</td>\n",
       "    </tr>\n",
       "  </tbody>\n",
       "</table>\n",
       "</div>"
      ],
      "text/plain": [
       "   Unnamed: 0      Timestamp  OnLine_Load_MW  Load_Control_KW  \\\n",
       "0           0  1/1/2021 0:00          514.37              0.0   \n",
       "1           1  1/1/2021 0:30          505.76              0.0   \n",
       "2           2  1/1/2021 1:00          504.80              0.0   \n",
       "3           3  1/1/2021 1:30          499.74              0.0   \n",
       "4           4  1/1/2021 2:00          496.19              0.0   \n",
       "\n",
       "   Load_Control_MW  Estimated_Online_Load_Control_MW  Control_Threshold_MW  \n",
       "0              0.0                            514.37                 626.2  \n",
       "1              0.0                            505.76                 572.0  \n",
       "2              0.0                            504.80                 572.0  \n",
       "3              0.0                            499.74                 572.0  \n",
       "4              0.0                            496.19                 572.0  "
      ]
     },
     "execution_count": 4,
     "metadata": {},
     "output_type": "execute_result"
    }
   ],
   "source": [
    "import pandas as pd\n",
    "\n",
    "df = pd.read_csv(r\"C:\\Users\\Linds\\Repos\\East_River\\data\\processed\\Cleaned_SCADA_Data.csv\")\n",
    "df.head()"
   ]
  },
  {
   "cell_type": "code",
   "execution_count": 5,
   "id": "d2b3f7c8",
   "metadata": {},
   "outputs": [
    {
     "name": "stdout",
     "output_type": "stream",
     "text": [
      "Average absolute error (MAE): 103.948\n",
      "Root mean squared error (RMSE): 126.804\n"
     ]
    }
   ],
   "source": [
    "import numpy as np\n",
    "\n",
    "diff = df['Estimated_Online_Load_Control_MW'] - df['Control_Threshold_MW']\n",
    "mae = diff.abs().mean()\n",
    "rmse = np.sqrt((diff**2).mean())\n",
    "\n",
    "print(f\"Average absolute error (MAE): {mae:.3f}\")\n",
    "print(f\"Root mean squared error (RMSE): {rmse:.3f}\")"
   ]
  },
  {
   "cell_type": "markdown",
   "id": "4c246b67",
   "metadata": {},
   "source": [
    "Potentail, reasonable, transparent way to show “how much better” the forecast is versus today’s static threshold logic. \n",
    "\n",
    "    • MAEforecast/RMSEforecast on  24–72 hr model  \n",
    "    • MAEthreshold/RMSEthreshold between the current threshold and actual load  \n",
    "    • ΔMAE = MAEthreshold – MAEforecast (and same for RMSE)  \n",
    "    • % Improvement = ΔMAE / MAEthreshold × 100  \n",
    "\n",
    "\n",
    "\n",
    "Todo:\n",
    "    3. Consider additional KPIs if relevant—e.g. bias (mean error), peak‐load errors, or cost/risk metrics—so stakeholders see both average gains and tails.  \n",
    "    4. Validate significance (e.g. bootstrap confidence intervals) if you need to prove the improvement isn’t due to chance.  \n",
    "\n"
   ]
  },
  {
   "cell_type": "code",
   "execution_count": 7,
   "id": "5aeebc65",
   "metadata": {},
   "outputs": [
    {
     "name": "stdout",
     "output_type": "stream",
     "text": [
      "Bias (mean error): 5.079 MW\n",
      "Peak‐load MAE (top 5%): 22.053 MW\n",
      "Average cost: $507.87\n",
      "Peak‐load cost (top 5%): $2205.28\n",
      "ΔMAE 95% CI: [nan, nan] MW\n"
     ]
    }
   ],
   "source": [
    "# Define columns (update `actual_col` if your actual‐load column has a different name)\n",
    "forecast_col = 'Estimated_Online_Load_Control_MW'\n",
    "threshold_col = 'Control_Threshold_MW'\n",
    "actual_col = 'Actual_Online_Load_Control_MW'  \n",
    "\n",
    "# 1. Bias (mean error)\n",
    "# update actual_col to match your dataframe\n",
    "actual_col = 'OnLine_Load_MW'\n",
    "\n",
    "# 1. Bias (mean error)\n",
    "df['error'] = df[forecast_col] - df[actual_col]\n",
    "bias = df['error'].mean()\n",
    "\n",
    "# 2. Peak‐load error (e.g. average absolute error when actual load in top 5%)\n",
    "peak_cut = df[actual_col].quantile(0.95)\n",
    "peak_err = df.loc[df[actual_col] >= peak_cut, 'error'].abs().mean()\n",
    "\n",
    "# 3. Simple cost metric (assume $100 per MW error; adjust as needed)\n",
    "unit_cost = 100\n",
    "df['cost'] = df['error'].abs() * unit_cost\n",
    "mean_cost = df['cost'].mean()\n",
    "peak_cost = df.loc[df[actual_col] >= peak_cut, 'cost'].mean()\n",
    "\n",
    "print(f\"Bias (mean error): {bias:.3f} MW\")\n",
    "print(f\"Peak‐load MAE (top 5%): {peak_err:.3f} MW\")\n",
    "print(f\"Average cost: ${mean_cost:.2f}\")\n",
    "print(f\"Peak‐load cost (top 5%): ${peak_cost:.2f}\")\n",
    "\n",
    "# 4. Bootstrap CI for ΔMAE = MAE_threshold – MAE_forecast\n",
    "n_boot = 1000\n",
    "delta_mae_bs = []\n",
    "y = df[actual_col].values\n",
    "y_hat = df[forecast_col].values\n",
    "th = df[threshold_col].values\n",
    "n = len(df)\n",
    "\n",
    "for _ in range(n_boot):\n",
    "  idx = np.random.choice(n, n, replace=True)\n",
    "  mae_f = np.abs(y_hat[idx] - y[idx]).mean()\n",
    "  mae_t = np.abs(th[idx] - y[idx]).mean()\n",
    "  delta_mae_bs.append(mae_t - mae_f)\n",
    "\n",
    "ci_low, ci_high = np.percentile(delta_mae_bs, [2.5, 97.5])\n",
    "print(f\"ΔMAE 95% CI: [{ci_low:.3f}, {ci_high:.3f}] MW\")"
   ]
  },
  {
   "cell_type": "code",
   "execution_count": 8,
   "id": "d66a0732",
   "metadata": {},
   "outputs": [
    {
     "name": "stdout",
     "output_type": "stream",
     "text": [
      "Mean cost (Residential): $307.01\n",
      "Mean cost (Commercial): $268.66\n",
      "Mean cost (Industrial): $215.85\n",
      "Mean cost (Average): $275.77\n",
      "Mean cost (Wholesale): $173.75\n",
      "Baseline mean cost (@ $100/MWh): $507.87\n"
     ]
    }
   ],
   "source": [
    "# Cost analysis under different electricity price scenarios ($/MWh)\n",
    "prices = {\n",
    "    'Residential': 120.90,\n",
    "    'Commercial': 105.80,\n",
    "    'Industrial': 85.00,\n",
    "    'Average': 108.60,\n",
    "    'Wholesale': 63.59 * 1.076  # include 7.6% increase for 2025\n",
    "}\n",
    "\n",
    "interval_hours = 0.5  # half‐hourly data\n",
    "\n",
    "for sector, price in prices.items():\n",
    "    col = f\"cost_{sector.lower()}\"\n",
    "    df[col] = df['error'].abs() * interval_hours * price\n",
    "\n",
    "mean_costs = {sector: df[f\"cost_{sector.lower()}\"].mean() for sector in prices}\n",
    "\n",
    "for sector, cost in mean_costs.items():\n",
    "    print(f\"Mean cost ({sector}): ${cost:,.2f}\")\n",
    "\n",
    "print(f\"Baseline mean cost (@ ${unit_cost}/MWh): ${mean_cost:,.2f}\")"
   ]
  },
  {
   "cell_type": "code",
   "execution_count": 9,
   "id": "4abeb591",
   "metadata": {},
   "outputs": [
    {
     "name": "stdout",
     "output_type": "stream",
     "text": [
      "Residential: Δcost = $5,658.70,  Improvement = 94.85%\n",
      "Commercial: Δcost = $4,951.95,  Improvement = 94.85%\n",
      "Industrial: Δcost = $3,978.41,  Improvement = 94.85%\n",
      "Average: Δcost = $5,083.00,  Improvement = 94.85%\n",
      "Wholesale: Δcost = $3,202.52,  Improvement = 94.85%\n"
     ]
    }
   ],
   "source": [
    "# compute threshold‐based cost for each sector and then Δcost / % improvement\n",
    "cost_stats = {}\n",
    "for sector, price in prices.items():\n",
    "    f_col = f\"cost_{sector.lower()}\"                      # forecast‐based cost\n",
    "    # compute threshold‐based cost on the fly\n",
    "    t_col = f\"cost_thr_{sector.lower()}\"\n",
    "    df[t_col] = (df[threshold_col].subtract(df[actual_col])\n",
    "                           .abs()\n",
    "                           * interval_hours\n",
    "                           * price)\n",
    "    mean_f = df[f_col].mean()\n",
    "    mean_t = df[t_col].mean()\n",
    "    delta = mean_t - mean_f\n",
    "    pct = (delta / mean_t) * 100 if mean_t else float(\"nan\")\n",
    "    cost_stats[sector] = (delta, pct)\n",
    "\n",
    "for sector, (delta, pct) in cost_stats.items():\n",
    "    print(f\"{sector}: Δcost = ${delta:,.2f},  Improvement = {pct:.2f}%\")"
   ]
  },
  {
   "cell_type": "markdown",
   "id": "64822da3",
   "metadata": {
    "vscode": {
     "languageId": "markdown"
    }
   },
   "source": [
    "Here’s a quick rundown of how each KPI and cost metric was computed from your DataFrame and the price inputs:\n",
    "\n",
    "1. Errors between forecast, threshold and actual  \n",
    "    - You have three series in df:  \n",
    "      • forecast_col = Estimated_Online_Load_Control_MW  \n",
    "      • threshold_col = Control_Threshold_MW  \n",
    "      • actual_col = OnLine_Load_MW  \n",
    "    - diff = forecast – threshold (used only for comparing threshold vs forecast).  \n",
    "    - error = forecast – actual (used for most of the error metrics).\n",
    "\n",
    "2. MAE and RMSE  \n",
    "    - MAE = mean(|forecast – actual|)  \n",
    "    - RMSE = sqrt(mean((forecast – actual)²))  \n",
    "    - You also computed the analogous MAE_threshold = mean(|threshold – actual|), and ΔMAE = MAE_threshold – MAE_forecast.\n",
    "\n",
    "3. Bias and peak‐load error  \n",
    "    - Bias = mean(forecast – actual)  \n",
    "    - Peak‐load error = mean(|forecast – actual|) over the top 5% of actual loads (actual ≥ 95th percentile).\n",
    "\n",
    "4. Simple cost ($100/MW)  \n",
    "    - cost = |forecast – actual| × unit_cost  \n",
    "    - mean_cost = average of that over all rows  \n",
    "    - peak_cost = same but restricted to the top 5% of loads\n",
    "\n",
    "5. Bootstrap confidence interval on ΔMAE  \n",
    "    - Re‐sample your index (n_boot times) with replacement  \n",
    "    - For each sample compute MAE_forecast and MAE_threshold → record ΔMAE  \n",
    "    - 95% CI = [2.5th, 97.5th] percentiles of that bootstrap ΔMAE distribution\n",
    "\n",
    "6. Sector‐specific cost scenarios  \n",
    "    - You have a dict of half‐hour prices for Residential, Commercial, Industrial, Average and Wholesale.  \n",
    "    - cost_<sector> = |forecast – actual| × interval_hours (0.5h) × price  \n",
    "    - mean_costs per sector = their averages\n",
    "\n",
    "7. Threshold‐vs‐forecast cost savings  \n",
    "    - For each sector build cost_thr_<sector> = |threshold – actual| × 0.5h × price  \n",
    "    - Δcost = mean(cost_thr) – mean(cost_forecast)  \n",
    "    - Improvement % = Δcost / mean(cost_thr) × 100  \n",
    "\n",
    "All of these derive directly from your raw load columns plus the per‐MWh prices you supplied, turning deviations into dollars and then aggregating with means (and percentiles for peaks or CIs)."
   ]
  },
  {
   "cell_type": "markdown",
   "id": "575dceb4",
   "metadata": {},
   "source": []
  }
 ],
 "metadata": {
  "kernelspec": {
   "display_name": "load_forecasting_env",
   "language": "python",
   "name": "python3"
  },
  "language_info": {
   "codemirror_mode": {
    "name": "ipython",
    "version": 3
   },
   "file_extension": ".py",
   "mimetype": "text/x-python",
   "name": "python",
   "nbconvert_exporter": "python",
   "pygments_lexer": "ipython3",
   "version": "3.11.11"
  }
 },
 "nbformat": 4,
 "nbformat_minor": 5
}
