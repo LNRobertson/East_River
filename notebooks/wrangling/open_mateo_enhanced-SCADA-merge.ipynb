{
 "cells": [
  {
   "cell_type": "code",
   "execution_count": 23,
   "metadata": {},
   "outputs": [
    {
     "name": "stdout",
     "output_type": "stream",
     "text": [
      "<class 'pandas.core.frame.DataFrame'>\n",
      "Index: 12168690 entries, 0 to 12168689\n",
      "Data columns (total 33 columns):\n",
      " #   Column                    Dtype              \n",
      "---  ------                    -----              \n",
      " 0   location                  object             \n",
      " 1   datetime                  datetime64[ns, UTC]\n",
      " 2   temperature               float64            \n",
      " 3   wind_speed                float64            \n",
      " 4   wind_degree               float64            \n",
      " 5   precip                    float64            \n",
      " 6   humidity                  float64            \n",
      " 7   visibility                float64            \n",
      " 8   pressure                  float64            \n",
      " 9   cloudcover                float64            \n",
      " 10  heatindex                 float64            \n",
      " 11  windchill                 float64            \n",
      " 12  windgust                  float64            \n",
      " 13  feelslike                 float64            \n",
      " 14  uv_index                  float64            \n",
      " 15  obs_tms_lcl               object             \n",
      " 16  wind_dir                  object             \n",
      " 17  weather_descriptions      object             \n",
      " 18  temperature_2m            float64            \n",
      " 19  precipitation             float64            \n",
      " 20  snowfall                  float64            \n",
      " 21  snow_depth                float64            \n",
      " 22  apparent_temperature      float64            \n",
      " 23  relative_humidity_2m      float64            \n",
      " 24  global_tilted_irradiance  float64            \n",
      " 25  diffuse_radiation         float64            \n",
      " 26  direct_radiation          float64            \n",
      " 27  pressure_msl              float64            \n",
      " 28  surface_pressure          float64            \n",
      " 29  blended_precip            float64            \n",
      " 30  latitude                  float64            \n",
      " 31  longitude                 float64            \n",
      " 32  noaa_station_name         object             \n",
      "dtypes: datetime64[ns, UTC](1), float64(27), object(5)\n",
      "memory usage: 3.1+ GB\n",
      "None\n"
     ]
    }
   ],
   "source": [
    "df = pd.read_hdf(r\"C:\\Users\\Linds\\Repos\\East_River\\data\\Processed\\Open_Mateo_enhanced_hist_weather.h5\")\n",
    "print(df.info())"
   ]
  },
  {
   "cell_type": "code",
   "execution_count": 24,
   "metadata": {},
   "outputs": [
    {
     "data": {
      "text/html": [
       "<div>\n",
       "<style scoped>\n",
       "    .dataframe tbody tr th:only-of-type {\n",
       "        vertical-align: middle;\n",
       "    }\n",
       "\n",
       "    .dataframe tbody tr th {\n",
       "        vertical-align: top;\n",
       "    }\n",
       "\n",
       "    .dataframe thead th {\n",
       "        text-align: right;\n",
       "    }\n",
       "</style>\n",
       "<table border=\"1\" class=\"dataframe\">\n",
       "  <thead>\n",
       "    <tr style=\"text-align: right;\">\n",
       "      <th></th>\n",
       "      <th>location</th>\n",
       "      <th>datetime</th>\n",
       "      <th>temperature</th>\n",
       "      <th>wind_speed</th>\n",
       "      <th>wind_degree</th>\n",
       "      <th>precip</th>\n",
       "      <th>humidity</th>\n",
       "      <th>visibility</th>\n",
       "      <th>pressure</th>\n",
       "      <th>cloudcover</th>\n",
       "      <th>...</th>\n",
       "      <th>relative_humidity_2m</th>\n",
       "      <th>global_tilted_irradiance</th>\n",
       "      <th>diffuse_radiation</th>\n",
       "      <th>direct_radiation</th>\n",
       "      <th>pressure_msl</th>\n",
       "      <th>surface_pressure</th>\n",
       "      <th>blended_precip</th>\n",
       "      <th>latitude</th>\n",
       "      <th>longitude</th>\n",
       "      <th>noaa_station_name</th>\n",
       "    </tr>\n",
       "  </thead>\n",
       "  <tbody>\n",
       "    <tr>\n",
       "      <th>0</th>\n",
       "      <td>Aberdeen, South Dakota</td>\n",
       "      <td>2020-12-31 06:00:00+00:00</td>\n",
       "      <td>12.0</td>\n",
       "      <td>7.0</td>\n",
       "      <td>197.0</td>\n",
       "      <td>0.0</td>\n",
       "      <td>90.0</td>\n",
       "      <td>6.0</td>\n",
       "      <td>30.120</td>\n",
       "      <td>69.0</td>\n",
       "      <td>...</td>\n",
       "      <td>72.0</td>\n",
       "      <td>0.0</td>\n",
       "      <td>0.0</td>\n",
       "      <td>0.0</td>\n",
       "      <td>1016.50</td>\n",
       "      <td>945.10</td>\n",
       "      <td>0.0</td>\n",
       "      <td>43.971878</td>\n",
       "      <td>-99.969666</td>\n",
       "      <td>ABBEVILLE, AL US</td>\n",
       "    </tr>\n",
       "    <tr>\n",
       "      <th>1</th>\n",
       "      <td>Aberdeen, South Dakota</td>\n",
       "      <td>2020-12-31 06:30:00+00:00</td>\n",
       "      <td>11.0</td>\n",
       "      <td>7.0</td>\n",
       "      <td>196.0</td>\n",
       "      <td>0.0</td>\n",
       "      <td>90.0</td>\n",
       "      <td>6.0</td>\n",
       "      <td>30.105</td>\n",
       "      <td>61.0</td>\n",
       "      <td>...</td>\n",
       "      <td>76.0</td>\n",
       "      <td>0.0</td>\n",
       "      <td>0.0</td>\n",
       "      <td>0.0</td>\n",
       "      <td>1016.25</td>\n",
       "      <td>944.80</td>\n",
       "      <td>0.0</td>\n",
       "      <td>43.971878</td>\n",
       "      <td>-99.969666</td>\n",
       "      <td>ABBEVILLE, AL US</td>\n",
       "    </tr>\n",
       "    <tr>\n",
       "      <th>2</th>\n",
       "      <td>Aberdeen, South Dakota</td>\n",
       "      <td>2020-12-31 07:00:00+00:00</td>\n",
       "      <td>10.0</td>\n",
       "      <td>7.0</td>\n",
       "      <td>195.0</td>\n",
       "      <td>0.0</td>\n",
       "      <td>90.0</td>\n",
       "      <td>6.0</td>\n",
       "      <td>30.090</td>\n",
       "      <td>53.0</td>\n",
       "      <td>...</td>\n",
       "      <td>80.0</td>\n",
       "      <td>0.0</td>\n",
       "      <td>0.0</td>\n",
       "      <td>0.0</td>\n",
       "      <td>1016.00</td>\n",
       "      <td>944.50</td>\n",
       "      <td>0.0</td>\n",
       "      <td>43.971878</td>\n",
       "      <td>-99.969666</td>\n",
       "      <td>ABBEVILLE, AL US</td>\n",
       "    </tr>\n",
       "    <tr>\n",
       "      <th>3</th>\n",
       "      <td>Aberdeen, South Dakota</td>\n",
       "      <td>2020-12-31 07:30:00+00:00</td>\n",
       "      <td>10.0</td>\n",
       "      <td>7.0</td>\n",
       "      <td>194.0</td>\n",
       "      <td>0.0</td>\n",
       "      <td>89.5</td>\n",
       "      <td>6.0</td>\n",
       "      <td>30.090</td>\n",
       "      <td>45.5</td>\n",
       "      <td>...</td>\n",
       "      <td>81.0</td>\n",
       "      <td>0.0</td>\n",
       "      <td>0.0</td>\n",
       "      <td>0.0</td>\n",
       "      <td>1016.25</td>\n",
       "      <td>944.55</td>\n",
       "      <td>0.0</td>\n",
       "      <td>43.971878</td>\n",
       "      <td>-99.969666</td>\n",
       "      <td>ABBEVILLE, AL US</td>\n",
       "    </tr>\n",
       "    <tr>\n",
       "      <th>4</th>\n",
       "      <td>Aberdeen, South Dakota</td>\n",
       "      <td>2020-12-31 08:00:00+00:00</td>\n",
       "      <td>10.0</td>\n",
       "      <td>7.0</td>\n",
       "      <td>193.0</td>\n",
       "      <td>0.0</td>\n",
       "      <td>89.0</td>\n",
       "      <td>6.0</td>\n",
       "      <td>30.090</td>\n",
       "      <td>38.0</td>\n",
       "      <td>...</td>\n",
       "      <td>82.0</td>\n",
       "      <td>0.0</td>\n",
       "      <td>0.0</td>\n",
       "      <td>0.0</td>\n",
       "      <td>1016.50</td>\n",
       "      <td>944.60</td>\n",
       "      <td>0.0</td>\n",
       "      <td>43.971878</td>\n",
       "      <td>-99.969666</td>\n",
       "      <td>ABBEVILLE, AL US</td>\n",
       "    </tr>\n",
       "  </tbody>\n",
       "</table>\n",
       "<p>5 rows × 33 columns</p>\n",
       "</div>"
      ],
      "text/plain": [
       "                 location                  datetime  temperature  wind_speed  \\\n",
       "0  Aberdeen, South Dakota 2020-12-31 06:00:00+00:00         12.0         7.0   \n",
       "1  Aberdeen, South Dakota 2020-12-31 06:30:00+00:00         11.0         7.0   \n",
       "2  Aberdeen, South Dakota 2020-12-31 07:00:00+00:00         10.0         7.0   \n",
       "3  Aberdeen, South Dakota 2020-12-31 07:30:00+00:00         10.0         7.0   \n",
       "4  Aberdeen, South Dakota 2020-12-31 08:00:00+00:00         10.0         7.0   \n",
       "\n",
       "   wind_degree  precip  humidity  visibility  pressure  cloudcover  ...  \\\n",
       "0        197.0     0.0      90.0         6.0    30.120        69.0  ...   \n",
       "1        196.0     0.0      90.0         6.0    30.105        61.0  ...   \n",
       "2        195.0     0.0      90.0         6.0    30.090        53.0  ...   \n",
       "3        194.0     0.0      89.5         6.0    30.090        45.5  ...   \n",
       "4        193.0     0.0      89.0         6.0    30.090        38.0  ...   \n",
       "\n",
       "   relative_humidity_2m  global_tilted_irradiance  diffuse_radiation  \\\n",
       "0                  72.0                       0.0                0.0   \n",
       "1                  76.0                       0.0                0.0   \n",
       "2                  80.0                       0.0                0.0   \n",
       "3                  81.0                       0.0                0.0   \n",
       "4                  82.0                       0.0                0.0   \n",
       "\n",
       "   direct_radiation  pressure_msl surface_pressure blended_precip   latitude  \\\n",
       "0               0.0       1016.50           945.10            0.0  43.971878   \n",
       "1               0.0       1016.25           944.80            0.0  43.971878   \n",
       "2               0.0       1016.00           944.50            0.0  43.971878   \n",
       "3               0.0       1016.25           944.55            0.0  43.971878   \n",
       "4               0.0       1016.50           944.60            0.0  43.971878   \n",
       "\n",
       "   longitude  noaa_station_name  \n",
       "0 -99.969666   ABBEVILLE, AL US  \n",
       "1 -99.969666   ABBEVILLE, AL US  \n",
       "2 -99.969666   ABBEVILLE, AL US  \n",
       "3 -99.969666   ABBEVILLE, AL US  \n",
       "4 -99.969666   ABBEVILLE, AL US  \n",
       "\n",
       "[5 rows x 33 columns]"
      ]
     },
     "execution_count": 24,
     "metadata": {},
     "output_type": "execute_result"
    }
   ],
   "source": [
    "df.head()"
   ]
  },
  {
   "cell_type": "code",
   "execution_count": 25,
   "metadata": {},
   "outputs": [
    {
     "name": "stdout",
     "output_type": "stream",
     "text": [
      "Number of unique locations: 174\n"
     ]
    }
   ],
   "source": [
    "unique_locations = df['location'].nunique()\n",
    "print(\"Number of unique locations:\", unique_locations)"
   ]
  },
  {
   "cell_type": "code",
   "execution_count": 26,
   "metadata": {},
   "outputs": [
    {
     "name": "stdout",
     "output_type": "stream",
     "text": [
      "location\n",
      "Aberdeen, South Dakota       1458\n",
      "Alsville, South Dakota       1458\n",
      "Ames, South Dakota           1458\n",
      "Andover, South Dakota        1458\n",
      "Arco, Minnesota              1458\n",
      "                             ... \n",
      "Wessington, South Dakota     1458\n",
      "Wheaton, Minnesota           1458\n",
      "Willow Lake, South Dakota    1458\n",
      "Worthing, South Dakota       1458\n",
      "Yankton, South Dakota        1458\n",
      "Name: date, Length: 174, dtype: int64\n"
     ]
    }
   ],
   "source": [
    "# Extract the date part from the datetime column\n",
    "df['date'] = df['datetime'].dt.date\n",
    "\n",
    "# Group by location and count unique days\n",
    "days_per_location = df.groupby('location')['date'].nunique()\n",
    "print(days_per_location)"
   ]
  },
  {
   "cell_type": "code",
   "execution_count": 47,
   "metadata": {},
   "outputs": [
    {
     "name": "stdout",
     "output_type": "stream",
     "text": [
      "Weather data date range:\n",
      "Start: 2020-12-31 06:00:00+00:00\n",
      "End: 2024-12-27 05:00:00+00:00\n"
     ]
    }
   ],
   "source": [
    "# Check the range of dates in the weather data (df)\n",
    "min_date = df['datetime'].min()\n",
    "max_date = df['datetime'].max()\n",
    "\n",
    "print(\"Weather data date range:\")\n",
    "print(\"Start:\", min_date)\n",
    "print(\"End:\", max_date)"
   ]
  },
  {
   "cell_type": "code",
   "execution_count": 29,
   "metadata": {},
   "outputs": [
    {
     "name": "stdout",
     "output_type": "stream",
     "text": [
      "<class 'pandas.core.frame.DataFrame'>\n",
      "RangeIndex: 70120 entries, 0 to 70119\n",
      "Data columns (total 7 columns):\n",
      " #   Column                            Non-Null Count  Dtype  \n",
      "---  ------                            --------------  -----  \n",
      " 0   Unnamed: 0                        70120 non-null  int64  \n",
      " 1   Timestamp                         70120 non-null  object \n",
      " 2   OnLine_Load_MW                    69881 non-null  float64\n",
      " 3   Load_Control_KW                   70120 non-null  float64\n",
      " 4   Load_Control_MW                   70120 non-null  float64\n",
      " 5   Estimated_Online_Load_Control_MW  70120 non-null  float64\n",
      " 6   Control_Threshold_MW              70120 non-null  float64\n",
      "dtypes: float64(5), int64(1), object(1)\n",
      "memory usage: 3.7+ MB\n",
      "None\n"
     ]
    }
   ],
   "source": [
    "scada_df = pd.read_csv(r\"C:\\Users\\Linds\\Repos\\East_River\\data\\Processed\\Cleaned_SCADA_Data.csv\")\n",
    "print(scada_df.info())"
   ]
  },
  {
   "cell_type": "code",
   "execution_count": 34,
   "metadata": {},
   "outputs": [
    {
     "name": "stdout",
     "output_type": "stream",
     "text": [
      "<class 'pandas.core.frame.DataFrame'>\n",
      "RangeIndex: 70120 entries, 0 to 70119\n",
      "Data columns (total 7 columns):\n",
      " #   Column                            Non-Null Count  Dtype         \n",
      "---  ------                            --------------  -----         \n",
      " 0   Unnamed: 0                        70120 non-null  int64         \n",
      " 1   Timestamp                         70120 non-null  datetime64[ns]\n",
      " 2   OnLine_Load_MW                    69881 non-null  float64       \n",
      " 3   Load_Control_KW                   70120 non-null  float64       \n",
      " 4   Load_Control_MW                   70120 non-null  float64       \n",
      " 5   Estimated_Online_Load_Control_MW  70120 non-null  float64       \n",
      " 6   Control_Threshold_MW              70120 non-null  float64       \n",
      "dtypes: datetime64[ns](1), float64(5), int64(1)\n",
      "memory usage: 3.7 MB\n"
     ]
    }
   ],
   "source": [
    "scada_df[\"Timestamp\"] = pd.to_datetime(scada_df[\"Timestamp\"])\n",
    "scada_df.info()"
   ]
  },
  {
   "cell_type": "code",
   "execution_count": 55,
   "metadata": {},
   "outputs": [
    {
     "name": "stdout",
     "output_type": "stream",
     "text": [
      "df columns:\n",
      "Index(['location', 'datetime', 'temperature', 'wind_speed', 'wind_degree',\n",
      "       'precip', 'humidity', 'visibility', 'pressure', 'cloudcover',\n",
      "       'heatindex', 'windchill', 'windgust', 'feelslike', 'uv_index',\n",
      "       'obs_tms_lcl', 'wind_dir', 'weather_descriptions', 'temperature_2m',\n",
      "       'precipitation', 'snowfall', 'snow_depth', 'apparent_temperature',\n",
      "       'relative_humidity_2m', 'global_tilted_irradiance', 'diffuse_radiation',\n",
      "       'direct_radiation', 'pressure_msl', 'surface_pressure',\n",
      "       'blended_precip', 'latitude', 'longitude', 'noaa_station_name', 'date'],\n",
      "      dtype='object')\n",
      "\n",
      "df dtypes:\n",
      "location                                 object\n",
      "datetime                    datetime64[ns, UTC]\n",
      "temperature                             float64\n",
      "wind_speed                              float64\n",
      "wind_degree                             float64\n",
      "precip                                  float64\n",
      "humidity                                float64\n",
      "visibility                              float64\n",
      "pressure                                float64\n",
      "cloudcover                              float64\n",
      "heatindex                               float64\n",
      "windchill                               float64\n",
      "windgust                                float64\n",
      "feelslike                               float64\n",
      "uv_index                                float64\n",
      "obs_tms_lcl                              object\n",
      "wind_dir                                 object\n",
      "weather_descriptions                     object\n",
      "temperature_2m                          float64\n",
      "precipitation                           float64\n",
      "snowfall                                float64\n",
      "snow_depth                              float64\n",
      "apparent_temperature                    float64\n",
      "relative_humidity_2m                    float64\n",
      "global_tilted_irradiance                float64\n",
      "diffuse_radiation                       float64\n",
      "direct_radiation                        float64\n",
      "pressure_msl                            float64\n",
      "surface_pressure                        float64\n",
      "blended_precip                          float64\n",
      "latitude                                float64\n",
      "longitude                               float64\n",
      "noaa_station_name                        object\n",
      "date                                     object\n",
      "dtype: object\n",
      "\n",
      "scada_df columns:\n",
      "Index(['Unnamed: 0', 'Timestamp', 'OnLine_Load_MW', 'Load_Control_KW',\n",
      "       'Load_Control_MW', 'Estimated_Online_Load_Control_MW',\n",
      "       'Control_Threshold_MW'],\n",
      "      dtype='object')\n",
      "\n",
      "scada_df dtypes:\n",
      "Unnamed: 0                                        int64\n",
      "Timestamp                           datetime64[ns, UTC]\n",
      "OnLine_Load_MW                                  float64\n",
      "Load_Control_KW                                 float64\n",
      "Load_Control_MW                                 float64\n",
      "Estimated_Online_Load_Control_MW                float64\n",
      "Control_Threshold_MW                            float64\n",
      "dtype: object\n"
     ]
    }
   ],
   "source": [
    "# Ensure that df is defined, if not, load it\n",
    "if 'df' not in globals():\n",
    "\timport pandas as pd\n",
    "\tdf = pd.read_hdf(\"data/Processed/Open_Mateo_enhanced_hist_weather.h5\")\n",
    "\n",
    "# Ensure that scada_df is defined, if not, load it\n",
    "if 'scada_df' not in globals():\n",
    "\timport pandas as pd\n",
    "\tscada_df = pd.read_csv(\"data/Processed/Cleaned_SCADA_Data.csv\")\n",
    "\n",
    "# Inspect df columns and dtypes\n",
    "print(\"df columns:\")\n",
    "print(df.columns)\n",
    "print(\"\\ndf dtypes:\")\n",
    "print(df.dtypes)\n",
    "\n",
    "# Inspect scada_df columns and dtypes\n",
    "print(\"\\nscada_df columns:\")\n",
    "print(scada_df.columns)\n",
    "print(\"\\nscada_df dtypes:\")\n",
    "print(scada_df.dtypes)"
   ]
  },
  {
   "cell_type": "code",
   "execution_count": 57,
   "metadata": {},
   "outputs": [
    {
     "name": "stdout",
     "output_type": "stream",
     "text": [
      "                 location                  datetime  temperature  wind_speed  \\\n",
      "0  Aberdeen, South Dakota 2020-12-31 06:00:00+00:00         12.0         7.0   \n",
      "1  Aberdeen, South Dakota 2020-12-31 06:30:00+00:00         11.0         7.0   \n",
      "2  Aberdeen, South Dakota 2020-12-31 07:00:00+00:00         10.0         7.0   \n",
      "3  Aberdeen, South Dakota 2020-12-31 07:30:00+00:00         10.0         7.0   \n",
      "4  Aberdeen, South Dakota 2020-12-31 08:00:00+00:00         10.0         7.0   \n",
      "\n",
      "   wind_degree  precip  humidity  visibility  pressure  cloudcover  ...  \\\n",
      "0        197.0     0.0      90.0         6.0    30.120        69.0  ...   \n",
      "1        196.0     0.0      90.0         6.0    30.105        61.0  ...   \n",
      "2        195.0     0.0      90.0         6.0    30.090        53.0  ...   \n",
      "3        194.0     0.0      89.5         6.0    30.090        45.5  ...   \n",
      "4        193.0     0.0      89.0         6.0    30.090        38.0  ...   \n",
      "\n",
      "   longitude  noaa_station_name        date  Unnamed: 0  Timestamp  \\\n",
      "0 -99.969666   ABBEVILLE, AL US  2020-12-31         NaN        NaT   \n",
      "1 -99.969666   ABBEVILLE, AL US  2020-12-31         NaN        NaT   \n",
      "2 -99.969666   ABBEVILLE, AL US  2020-12-31         NaN        NaT   \n",
      "3 -99.969666   ABBEVILLE, AL US  2020-12-31         NaN        NaT   \n",
      "4 -99.969666   ABBEVILLE, AL US  2020-12-31         NaN        NaT   \n",
      "\n",
      "  OnLine_Load_MW Load_Control_KW Load_Control_MW  \\\n",
      "0            NaN             NaN             NaN   \n",
      "1            NaN             NaN             NaN   \n",
      "2            NaN             NaN             NaN   \n",
      "3            NaN             NaN             NaN   \n",
      "4            NaN             NaN             NaN   \n",
      "\n",
      "   Estimated_Online_Load_Control_MW  Control_Threshold_MW  \n",
      "0                               NaN                   NaN  \n",
      "1                               NaN                   NaN  \n",
      "2                               NaN                   NaN  \n",
      "3                               NaN                   NaN  \n",
      "4                               NaN                   NaN  \n",
      "\n",
      "[5 rows x 41 columns]\n"
     ]
    }
   ],
   "source": [
    "weather_scada = pd.merge(df, scada_df, left_on=\"datetime\", right_on=\"Timestamp\", how=\"left\")\n",
    "print(weather_scada.head())"
   ]
  },
  {
   "cell_type": "code",
   "execution_count": 52,
   "metadata": {},
   "outputs": [
    {
     "name": "stdout",
     "output_type": "stream",
     "text": [
      "Merged DataFrame datetime range:\n",
      "Start: 2020-12-31 06:00:00+00:00\n",
      "End: 2024-12-27 05:00:00+00:00\n"
     ]
    }
   ],
   "source": [
    "min_dt = weather_scada['datetime'].min()\n",
    "max_dt = weather_scada['datetime'].max()\n",
    "print(\"Merged DataFrame datetime range:\")\n",
    "print(\"Start:\", min_dt)\n",
    "print(\"End:\", max_dt)"
   ]
  },
  {
   "cell_type": "code",
   "execution_count": 58,
   "metadata": {},
   "outputs": [
    {
     "name": "stdout",
     "output_type": "stream",
     "text": [
      "Rows in original weather df: 12168690\n",
      "Rows in merged weather_scada: 12168690\n",
      "\n",
      "Missing values by column:\n",
      "location                               0\n",
      "datetime                               0\n",
      "temperature                            0\n",
      "wind_speed                             0\n",
      "wind_degree                            0\n",
      "precip                                 0\n",
      "humidity                               0\n",
      "visibility                             0\n",
      "pressure                               0\n",
      "cloudcover                             0\n",
      "heatindex                              0\n",
      "windchill                              0\n",
      "windgust                               0\n",
      "feelslike                              0\n",
      "uv_index                               0\n",
      "obs_tms_lcl                            0\n",
      "wind_dir                               0\n",
      "weather_descriptions                   0\n",
      "temperature_2m                         0\n",
      "precipitation                          0\n",
      "snowfall                               0\n",
      "snow_depth                             0\n",
      "apparent_temperature                   0\n",
      "relative_humidity_2m                   0\n",
      "global_tilted_irradiance               0\n",
      "diffuse_radiation                      0\n",
      "direct_radiation                       0\n",
      "pressure_msl                           0\n",
      "surface_pressure                       0\n",
      "blended_precip                         0\n",
      "latitude                               0\n",
      "longitude                              0\n",
      "noaa_station_name                      0\n",
      "date                                   0\n",
      "Unnamed: 0                          7656\n",
      "Timestamp                           7656\n",
      "OnLine_Load_MW                      9396\n",
      "Load_Control_KW                     7656\n",
      "Load_Control_MW                     7656\n",
      "Estimated_Online_Load_Control_MW    7656\n",
      "Control_Threshold_MW                7656\n",
      "dtype: int64\n",
      "\n",
      "Datetime range in weather_scada:\n",
      "Start: 2020-12-31 06:00:00+00:00\n",
      "End: 2024-12-27 05:00:00+00:00\n"
     ]
    }
   ],
   "source": [
    "# Ensure all weather rows are present\n",
    "print(\"Rows in original weather df:\", len(df))\n",
    "print(\"Rows in merged weather_scada:\", len(weather_scada))\n",
    "\n",
    "# Check missing values overall and specifically for scada columns\n",
    "print(\"\\nMissing values by column:\")\n",
    "print(weather_scada.isna().sum())\n",
    "\n",
    "# Optionally verify datetime ranges are not altered\n",
    "print(\"\\nDatetime range in weather_scada:\")\n",
    "print(\"Start:\", weather_scada[\"datetime\"].min())\n",
    "print(\"End:\", weather_scada[\"datetime\"].max())"
   ]
  },
  {
   "cell_type": "code",
   "execution_count": 59,
   "metadata": {},
   "outputs": [],
   "source": [
    "weather_scada.to_csv('weather_scada.csv', index=False)"
   ]
  },
  {
   "cell_type": "code",
   "execution_count": 61,
   "metadata": {},
   "outputs": [
    {
     "name": "stderr",
     "output_type": "stream",
     "text": [
      "C:\\Users\\Linds\\AppData\\Local\\Temp\\ipykernel_24040\\3281387084.py:3: PerformanceWarning: \n",
      "your performance may suffer as PyTables will pickle object types that it cannot\n",
      "map directly to c-types [inferred_type->mixed,key->block3_values] [items->Index(['location', 'obs_tms_lcl', 'wind_dir', 'weather_descriptions',\n",
      "       'noaa_station_name', 'date'],\n",
      "      dtype='object')]\n",
      "\n",
      "  weather_scada.to_hdf('data/Processed/weather_scada.h5', key='weather_scada', mode='w')\n"
     ]
    },
    {
     "name": "stdout",
     "output_type": "stream",
     "text": [
      "weather_scada saved to h5 file!\n"
     ]
    }
   ],
   "source": [
    "import os\n",
    "os.makedirs('data/Processed', exist_ok=True)\n",
    "weather_scada.to_hdf('data/Processed/weather_scada.h5', key='weather_scada', mode='w')\n",
    "print(\"weather_scada saved to h5 file!\")"
   ]
  },
  {
   "cell_type": "code",
   "execution_count": 62,
   "metadata": {},
   "outputs": [
    {
     "name": "stdout",
     "output_type": "stream",
     "text": [
      "Shape of weather_scada loaded from h5: (12168690, 41)\n",
      "Columns loaded from h5:\n",
      "Index(['location', 'datetime', 'temperature', 'wind_speed', 'wind_degree',\n",
      "       'precip', 'humidity', 'visibility', 'pressure', 'cloudcover',\n",
      "       'heatindex', 'windchill', 'windgust', 'feelslike', 'uv_index',\n",
      "       'obs_tms_lcl', 'wind_dir', 'weather_descriptions', 'temperature_2m',\n",
      "       'precipitation', 'snowfall', 'snow_depth', 'apparent_temperature',\n",
      "       'relative_humidity_2m', 'global_tilted_irradiance', 'diffuse_radiation',\n",
      "       'direct_radiation', 'pressure_msl', 'surface_pressure',\n",
      "       'blended_precip', 'latitude', 'longitude', 'noaa_station_name', 'date',\n",
      "       'Unnamed: 0', 'Timestamp', 'OnLine_Load_MW', 'Load_Control_KW',\n",
      "       'Load_Control_MW', 'Estimated_Online_Load_Control_MW',\n",
      "       'Control_Threshold_MW'],\n",
      "      dtype='object')\n",
      "All columns and rows made it into the h5 file!\n"
     ]
    }
   ],
   "source": [
    "# Load the DataFrame from the h5 file\n",
    "weather_scada_h5 = pd.read_hdf('data/Processed/weather_scada.h5', key='weather_scada')\n",
    "\n",
    "# Display shape and columns of the loaded DataFrame\n",
    "print(\"Shape of weather_scada loaded from h5:\", weather_scada_h5.shape)\n",
    "print(\"Columns loaded from h5:\")\n",
    "print(weather_scada_h5.columns)\n",
    "\n",
    "# Optional: Compare with the original DataFrame\n",
    "if 'weather_scada' in globals():\n",
    "    if weather_scada.shape == weather_scada_h5.shape and all(weather_scada.columns == weather_scada_h5.columns):\n",
    "        print(\"All columns and rows made it into the h5 file!\")\n",
    "    else:\n",
    "        print(\"Mismatch found between the original and the loaded DataFrame.\")\n",
    "else:\n",
    "    print(\"The original weather_scada DataFrame is not found in the current workspace.\")"
   ]
  },
  {
   "cell_type": "code",
   "execution_count": 66,
   "metadata": {},
   "outputs": [
    {
     "name": "stderr",
     "output_type": "stream",
     "text": [
      "[NbConvertApp] Converting notebook open_mateo_enhanced-SCADA-merge.ipynb to pdf\n",
      "[NbConvertApp] Writing 48886 bytes to notebook.tex\n",
      "[NbConvertApp] Building PDF\n",
      "[NbConvertApp] Running xelatex 3 times: ['xelatex', 'notebook.tex', '-quiet']\n",
      "[NbConvertApp] Running bibtex 1 time: ['bibtex', 'notebook']\n",
      "[NbConvertApp] WARNING | b had problems, most likely because there were no citations\n",
      "[NbConvertApp] PDF successfully created\n",
      "[NbConvertApp] Writing 44415 bytes to open_mateo_enhanced-SCADA-merge.pdf\n"
     ]
    }
   ],
   "source": [
    "!jupyter nbconvert --to pdf \"open_mateo_enhanced-SCADA-merge.ipynb\""
   ]
  }
 ],
 "metadata": {
  "kernelspec": {
   "display_name": "load_forecasting_env",
   "language": "python",
   "name": "python3"
  },
  "language_info": {
   "codemirror_mode": {
    "name": "ipython",
    "version": 3
   },
   "file_extension": ".py",
   "mimetype": "text/x-python",
   "name": "python",
   "nbconvert_exporter": "python",
   "pygments_lexer": "ipython3",
   "version": "3.11.11"
  }
 },
 "nbformat": 4,
 "nbformat_minor": 2
}
