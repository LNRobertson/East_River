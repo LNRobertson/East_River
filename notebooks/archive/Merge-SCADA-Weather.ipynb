{
 "cells": [
  {
   "cell_type": "code",
   "execution_count": 32,
   "metadata": {},
   "outputs": [],
   "source": [
    "import pandas as pd\n",
    "import numpy as np\n",
    "import matplotlib.pyplot as plt\n",
    "import seaborn as sns\n",
    "import os"
   ]
  },
  {
   "cell_type": "code",
   "execution_count": 33,
   "metadata": {},
   "outputs": [],
   "source": [
    "SCADA_data_df = pd.read_csv(r'C:\\Users\\Linds\\Repos\\East_River\\Data\\Processed\\Cleaned_SCADA_Data.csv')"
   ]
  },
  {
   "cell_type": "code",
   "execution_count": 34,
   "metadata": {},
   "outputs": [],
   "source": [
    "hist_weather_df = pd.read_csv(r'C:\\Users\\Linds\\Repos\\East_River\\Data\\Raw\\DSU_wx_history.csv')"
   ]
  },
  {
   "cell_type": "markdown",
   "metadata": {},
   "source": [
    "More weather data would certainly improve analyses linking load to weather patterns. If we can't get more weather data, consider:\n",
    "\n",
    "- Filtering SCADA data to just the overlapping period with weather data.\n",
    "- Analyzing SCADA data separately to study trends independent of weather.\n",
    "- Imputing missing weather information using external sources or historical patterns if modeling demands a full timeline."
   ]
  },
  {
   "cell_type": "markdown",
   "metadata": {},
   "source": [
    "(Estimated_Online_Load_Control_MW) has very few non-null values compared to the rest of the dataset. This means the model would have limited training data for predicting it, which could lead to biased predictions or overfitting. It may be necessary to consider strategies like data imputation, semi-supervised learning, or collecting additional target data.\n"
   ]
  },
  {
   "cell_type": "markdown",
   "metadata": {},
   "source": [
    "same with weather data"
   ]
  }
 ],
 "metadata": {
  "kernelspec": {
   "display_name": "load_forecasting_env",
   "language": "python",
   "name": "python3"
  },
  "language_info": {
   "codemirror_mode": {
    "name": "ipython",
    "version": 3
   },
   "file_extension": ".py",
   "mimetype": "text/x-python",
   "name": "python",
   "nbconvert_exporter": "python",
   "pygments_lexer": "ipython3",
   "version": "3.11.11"
  }
 },
 "nbformat": 4,
 "nbformat_minor": 2
}
