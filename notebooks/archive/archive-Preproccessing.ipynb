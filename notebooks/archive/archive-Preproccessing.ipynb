{
 "cells": [
  {
   "cell_type": "code",
   "execution_count": 1,
   "metadata": {},
   "outputs": [],
   "source": [
    "import os\n",
    "import datetime\n",
    "import numpy as np\n",
    "import pandas as pd\n",
    "import matplotlib.pyplot as plt\n",
    "import seaborn as sns\n",
    "from sklearn.model_selection import train_test_split\n",
    "from sklearn.impute import SimpleImputer\n",
    "from sklearn.preprocessing import StandardScaler"
   ]
  },
  {
   "cell_type": "markdown",
   "metadata": {},
   "source": [
    "\n",
    "- pandas: For data ingestion, manipulation, cleaning, and merging.\n",
    "- numpy: For numerical operations and calculations.\n",
    "- matplotlib.pyplot: For basic plotting and visualization.\n",
    "- seaborn: For enhanced statistical visualizations.\n",
    "- scikit-learn: For data preprocessing utilities (e.g., imputation, scaling train/test split, feature selection).\n",
    "- datetime: (Built-in) For parsing and handling dates and times.\n",
    "- os: (Built-in) For file and path operations if needed."
   ]
  },
  {
   "cell_type": "code",
   "execution_count": 12,
   "metadata": {},
   "outputs": [],
   "source": [
    "# Load the CSV file\n",
    "weather_df = pd.read_csv(r\"C:\\Users\\Linds\\Repos\\East_River\\Data\\Processed\\all_weather_clean.csv\")\n",
    "\n",
    "# Convert the observation timestamp to datetime\n",
    "weather_df['obs_tms_lcl'] = pd.to_datetime(weather_df['obs_tms_lcl'])\n",
    "\n"
   ]
  },
  {
   "cell_type": "code",
   "execution_count": 13,
   "metadata": {},
   "outputs": [
    {
     "name": "stdout",
     "output_type": "stream",
     "text": [
      "location                0\n",
      "obs_tms_lcl             0\n",
      "temperature             0\n",
      "wind_speed              0\n",
      "wind_degree             0\n",
      "wind_dir                0\n",
      "weather_descriptions    0\n",
      "precip                  0\n",
      "humidity                0\n",
      "visibility              0\n",
      "pressure                0\n",
      "cloudcover              0\n",
      "heatindex               0\n",
      "dewpoint                0\n",
      "windchill               0\n",
      "windgust                0\n",
      "feelslike               0\n",
      "uv_index                0\n",
      "time                    0\n",
      "year                    0\n",
      "minute                  0\n",
      "dtype: int64\n"
     ]
    }
   ],
   "source": [
    "# Check for missing values\n",
    "print(weather_df.isnull().sum())\n",
    "\n"
   ]
  },
  {
   "cell_type": "code",
   "execution_count": null,
   "metadata": {},
   "outputs": [
    {
     "name": "stdout",
     "output_type": "stream",
     "text": [
      "                 location               obs_tms_lcl  temperature  wind_speed  \\\n",
      "0  Aberdeen, South Dakota 2020-12-31 06:00:00+00:00           12           7   \n",
      "1  Alsville, South Dakota 2020-12-31 06:00:00+00:00            5           5   \n",
      "2      Ames, South Dakota 2020-12-31 06:00:00+00:00           16           7   \n",
      "3   Andover, South Dakota 2020-12-31 06:00:00+00:00           12           7   \n",
      "4         Arco, Minnesota 2020-12-31 06:00:00+00:00            7           6   \n",
      "\n",
      "   wind_degree wind_dir weather_descriptions  precip  humidity  visibility  \\\n",
      "0          197      SSW               Cloudy     0.0        90           6   \n",
      "1          206      SSW               Cloudy     0.0        86           6   \n",
      "2          165      SSE                Clear     0.0        84           6   \n",
      "3          197      SSW               Cloudy     0.0        90           6   \n",
      "4          228       SW               Cloudy     0.0        88           6   \n",
      "\n",
      "   ...  cloudcover  heatindex  dewpoint  windchill  windgust  feelslike  \\\n",
      "0  ...          69         12         9          0        15          0   \n",
      "1  ...          73          5         5         -4        11         -4   \n",
      "2  ...          19         16        16          7        14          7   \n",
      "3  ...          69         12         9          0        15          0   \n",
      "4  ...          72          7         5         -2        11         -2   \n",
      "\n",
      "   uv_index     time  year  minute  \n",
      "0         1  6:00:00  2020       0  \n",
      "1         1  6:00:00  2020       0  \n",
      "2         1  6:00:00  2020       0  \n",
      "3         1  6:00:00  2020       0  \n",
      "4         1  6:00:00  2020       0  \n",
      "\n",
      "[5 rows x 21 columns]\n",
      "<class 'pandas.core.frame.DataFrame'>\n",
      "RangeIndex: 1048575 entries, 0 to 1048574\n",
      "Data columns (total 21 columns):\n",
      " #   Column                Non-Null Count    Dtype              \n",
      "---  ------                --------------    -----              \n",
      " 0   location              1048575 non-null  object             \n",
      " 1   obs_tms_lcl           1048575 non-null  datetime64[ns, UTC]\n",
      " 2   temperature           1048575 non-null  int64              \n",
      " 3   wind_speed            1048575 non-null  int64              \n",
      " 4   wind_degree           1048575 non-null  int64              \n",
      " 5   wind_dir              1048575 non-null  object             \n",
      " 6   weather_descriptions  1048575 non-null  object             \n",
      " 7   precip                1048575 non-null  float64            \n",
      " 8   humidity              1048575 non-null  int64              \n",
      " 9   visibility            1048575 non-null  int64              \n",
      " 10  pressure              1048575 non-null  float64            \n",
      " 11  cloudcover            1048575 non-null  int64              \n",
      " 12  heatindex             1048575 non-null  int64              \n",
      " 13  dewpoint              1048575 non-null  int64              \n",
      " 14  windchill             1048575 non-null  int64              \n",
      " 15  windgust              1048575 non-null  int64              \n",
      " 16  feelslike             1048575 non-null  int64              \n",
      " 17  uv_index              1048575 non-null  int64              \n",
      " 18  time                  1048575 non-null  object             \n",
      " 19  year                  1048575 non-null  int64              \n",
      " 20  minute                1048575 non-null  int64              \n",
      "dtypes: datetime64[ns, UTC](1), float64(2), int64(14), object(4)\n",
      "memory usage: 168.0+ MB\n",
      "None\n",
      "        temperature    wind_speed   wind_degree        precip      humidity  \\\n",
      "count  1.048575e+06  1.048575e+06  1.048575e+06  1.048575e+06  1.048575e+06   \n",
      "mean   3.150522e+01  9.754246e+00  2.004905e+02  1.082612e-03  7.548892e+01   \n",
      "std    1.811668e+01  4.917239e+00  9.723591e+01  1.092752e-02  1.844254e+01   \n",
      "min   -3.100000e+01  1.000000e+00  0.000000e+00  0.000000e+00  1.500000e+01   \n",
      "25%    2.300000e+01  6.000000e+00  1.300000e+02  0.000000e+00  6.400000e+01   \n",
      "50%    3.400000e+01  9.000000e+00  1.950000e+02  0.000000e+00  8.100000e+01   \n",
      "75%    4.300000e+01  1.200000e+01  2.910000e+02  0.000000e+00  9.100000e+01   \n",
      "max    8.400000e+01  3.500000e+01  3.600000e+02  6.000000e-01  1.000000e+02   \n",
      "\n",
      "         visibility      pressure    cloudcover     heatindex      dewpoint  \\\n",
      "count  1.048575e+06  1.048575e+06  1.048575e+06  1.048575e+06  1.048575e+06   \n",
      "mean   5.319995e+00  3.007560e+01  5.382865e+01  3.152459e+01  2.301657e+01   \n",
      "std    1.443490e+00  2.927843e-01  3.758614e+01  1.815851e+01  1.548084e+01   \n",
      "min    0.000000e+00  2.915000e+01  0.000000e+00 -3.100000e+01 -3.500000e+01   \n",
      "25%    6.000000e+00  2.988000e+01  1.400000e+01  2.300000e+01  1.600000e+01   \n",
      "50%    6.000000e+00  3.006000e+01  5.600000e+01  3.400000e+01  2.700000e+01   \n",
      "75%    6.000000e+00  3.027000e+01  9.400000e+01  4.300000e+01  3.400000e+01   \n",
      "max    6.000000e+00  3.095000e+01  1.000000e+02  8.400000e+01  6.100000e+01   \n",
      "\n",
      "          windchill      windgust     feelslike      uv_index          year  \\\n",
      "count  1.048575e+06  1.048575e+06  1.048575e+06  1.048575e+06  1.048575e+06   \n",
      "mean   2.410146e+01  1.632981e+01  2.410687e+01  1.550854e+00  2.020994e+03   \n",
      "std    2.117002e+01  7.394556e+00  2.118234e+01  1.015417e+00  7.705933e-02   \n",
      "min   -5.100000e+01  1.000000e+00 -5.100000e+01  1.000000e+00  2.020000e+03   \n",
      "25%    1.200000e+01  1.100000e+01  1.200000e+01  1.000000e+00  2.021000e+03   \n",
      "50%    2.700000e+01  1.500000e+01  2.700000e+01  1.000000e+00  2.021000e+03   \n",
      "75%    3.700000e+01  2.100000e+01  3.700000e+01  2.000000e+00  2.021000e+03   \n",
      "max    8.400000e+01  5.000000e+01  8.400000e+01  7.000000e+00  2.021000e+03   \n",
      "\n",
      "             minute  \n",
      "count  1.048575e+06  \n",
      "mean   1.499927e+01  \n",
      "std    1.500001e+01  \n",
      "min    0.000000e+00  \n",
      "25%    0.000000e+00  \n",
      "50%    0.000000e+00  \n",
      "75%    3.000000e+01  \n",
      "max    3.000000e+01  \n"
     ]
    }
   ],
   "source": [
    "#checking the DataFrame\n",
    "print(weather_df.head())\n"
   ]
  },
  {
   "cell_type": "code",
   "execution_count": 15,
   "metadata": {},
   "outputs": [
    {
     "name": "stdout",
     "output_type": "stream",
     "text": [
      "<class 'pandas.core.frame.DataFrame'>\n",
      "RangeIndex: 1048575 entries, 0 to 1048574\n",
      "Data columns (total 21 columns):\n",
      " #   Column                Non-Null Count    Dtype              \n",
      "---  ------                --------------    -----              \n",
      " 0   location              1048575 non-null  object             \n",
      " 1   obs_tms_lcl           1048575 non-null  datetime64[ns, UTC]\n",
      " 2   temperature           1048575 non-null  int64              \n",
      " 3   wind_speed            1048575 non-null  int64              \n",
      " 4   wind_degree           1048575 non-null  int64              \n",
      " 5   wind_dir              1048575 non-null  object             \n",
      " 6   weather_descriptions  1048575 non-null  object             \n",
      " 7   precip                1048575 non-null  float64            \n",
      " 8   humidity              1048575 non-null  int64              \n",
      " 9   visibility            1048575 non-null  int64              \n",
      " 10  pressure              1048575 non-null  float64            \n",
      " 11  cloudcover            1048575 non-null  int64              \n",
      " 12  heatindex             1048575 non-null  int64              \n",
      " 13  dewpoint              1048575 non-null  int64              \n",
      " 14  windchill             1048575 non-null  int64              \n",
      " 15  windgust              1048575 non-null  int64              \n",
      " 16  feelslike             1048575 non-null  int64              \n",
      " 17  uv_index              1048575 non-null  int64              \n",
      " 18  time                  1048575 non-null  object             \n",
      " 19  year                  1048575 non-null  int64              \n",
      " 20  minute                1048575 non-null  int64              \n",
      "dtypes: datetime64[ns, UTC](1), float64(2), int64(14), object(4)\n",
      "memory usage: 168.0+ MB\n",
      "None\n"
     ]
    }
   ],
   "source": [
    "print(weather_df.info())\n"
   ]
  },
  {
   "cell_type": "code",
   "execution_count": 16,
   "metadata": {},
   "outputs": [
    {
     "name": "stdout",
     "output_type": "stream",
     "text": [
      "        temperature    wind_speed   wind_degree        precip      humidity  \\\n",
      "count  1.048575e+06  1.048575e+06  1.048575e+06  1.048575e+06  1.048575e+06   \n",
      "mean   3.150522e+01  9.754246e+00  2.004905e+02  1.082612e-03  7.548892e+01   \n",
      "std    1.811668e+01  4.917239e+00  9.723591e+01  1.092752e-02  1.844254e+01   \n",
      "min   -3.100000e+01  1.000000e+00  0.000000e+00  0.000000e+00  1.500000e+01   \n",
      "25%    2.300000e+01  6.000000e+00  1.300000e+02  0.000000e+00  6.400000e+01   \n",
      "50%    3.400000e+01  9.000000e+00  1.950000e+02  0.000000e+00  8.100000e+01   \n",
      "75%    4.300000e+01  1.200000e+01  2.910000e+02  0.000000e+00  9.100000e+01   \n",
      "max    8.400000e+01  3.500000e+01  3.600000e+02  6.000000e-01  1.000000e+02   \n",
      "\n",
      "         visibility      pressure    cloudcover     heatindex      dewpoint  \\\n",
      "count  1.048575e+06  1.048575e+06  1.048575e+06  1.048575e+06  1.048575e+06   \n",
      "mean   5.319995e+00  3.007560e+01  5.382865e+01  3.152459e+01  2.301657e+01   \n",
      "std    1.443490e+00  2.927843e-01  3.758614e+01  1.815851e+01  1.548084e+01   \n",
      "min    0.000000e+00  2.915000e+01  0.000000e+00 -3.100000e+01 -3.500000e+01   \n",
      "25%    6.000000e+00  2.988000e+01  1.400000e+01  2.300000e+01  1.600000e+01   \n",
      "50%    6.000000e+00  3.006000e+01  5.600000e+01  3.400000e+01  2.700000e+01   \n",
      "75%    6.000000e+00  3.027000e+01  9.400000e+01  4.300000e+01  3.400000e+01   \n",
      "max    6.000000e+00  3.095000e+01  1.000000e+02  8.400000e+01  6.100000e+01   \n",
      "\n",
      "          windchill      windgust     feelslike      uv_index          year  \\\n",
      "count  1.048575e+06  1.048575e+06  1.048575e+06  1.048575e+06  1.048575e+06   \n",
      "mean   2.410146e+01  1.632981e+01  2.410687e+01  1.550854e+00  2.020994e+03   \n",
      "std    2.117002e+01  7.394556e+00  2.118234e+01  1.015417e+00  7.705933e-02   \n",
      "min   -5.100000e+01  1.000000e+00 -5.100000e+01  1.000000e+00  2.020000e+03   \n",
      "25%    1.200000e+01  1.100000e+01  1.200000e+01  1.000000e+00  2.021000e+03   \n",
      "50%    2.700000e+01  1.500000e+01  2.700000e+01  1.000000e+00  2.021000e+03   \n",
      "75%    3.700000e+01  2.100000e+01  3.700000e+01  2.000000e+00  2.021000e+03   \n",
      "max    8.400000e+01  5.000000e+01  8.400000e+01  7.000000e+00  2.021000e+03   \n",
      "\n",
      "             minute  \n",
      "count  1.048575e+06  \n",
      "mean   1.499927e+01  \n",
      "std    1.500001e+01  \n",
      "min    0.000000e+00  \n",
      "25%    0.000000e+00  \n",
      "50%    0.000000e+00  \n",
      "75%    3.000000e+01  \n",
      "max    3.000000e+01  \n"
     ]
    }
   ],
   "source": [
    "print(weather_df.describe())"
   ]
  },
  {
   "cell_type": "code",
   "execution_count": 17,
   "metadata": {},
   "outputs": [
    {
     "name": "stdout",
     "output_type": "stream",
     "text": [
      "location                             object\n",
      "obs_tms_lcl             datetime64[ns, UTC]\n",
      "temperature                           int64\n",
      "wind_speed                            int64\n",
      "wind_degree                           int64\n",
      "wind_dir                             object\n",
      "weather_descriptions                 object\n",
      "precip                              float64\n",
      "humidity                              int64\n",
      "visibility                            int64\n",
      "pressure                            float64\n",
      "cloudcover                            int64\n",
      "heatindex                             int64\n",
      "dewpoint                              int64\n",
      "windchill                             int64\n",
      "windgust                              int64\n",
      "feelslike                             int64\n",
      "uv_index                              int64\n",
      "time                                 object\n",
      "year                                  int64\n",
      "minute                                int64\n",
      "dtype: object\n"
     ]
    }
   ],
   "source": [
    "# Check the data types\n",
    "print(weather_df.dtypes)"
   ]
  },
  {
   "cell_type": "code",
   "execution_count": null,
   "metadata": {},
   "outputs": [],
   "source": [
    "# Set the datetime as the index (optional)\n",
    "#weather_df.set_index('obs_tms_lcl', inplace=True)"
   ]
  },
  {
   "cell_type": "markdown",
   "metadata": {},
   "source": [
    "Check Format and Consistency:\n",
    "\n",
    "Verify timestamp column is in datetime format.\n",
    "Look at the unique timestamp values and compute the time differences to ensure regular intervals."
   ]
  },
  {
   "cell_type": "code",
   "execution_count": 18,
   "metadata": {},
   "outputs": [
    {
     "name": "stdout",
     "output_type": "stream",
     "text": [
      "Timestamps: 0   2020-12-31 06:00:00+00:00\n",
      "1   2020-12-31 06:00:00+00:00\n",
      "2   2020-12-31 06:00:00+00:00\n",
      "3   2020-12-31 06:00:00+00:00\n",
      "4   2020-12-31 06:00:00+00:00\n",
      "Name: obs_tms_lcl, dtype: datetime64[ns, UTC]\n",
      "Time differences:\n",
      " obs_tms_lcl\n",
      "0 days 00:00:00    1042550\n",
      "0 days 00:30:00       6024\n",
      "Name: count, dtype: int64\n"
     ]
    }
   ],
   "source": [
    "# Display the first few timestamp values\n",
    "print(\"Timestamps:\", weather_df['obs_tms_lcl'].head())\n",
    "\n",
    "# Convert to datetime (if not already done)\n",
    "weather_df['obs_tms_lcl'] = pd.to_datetime(weather_df['obs_tms_lcl'])\n",
    "\n",
    "# Check time differences between consecutive observations\n",
    "time_diff = weather_df['obs_tms_lcl'].diff()\n",
    "print(\"Time differences:\\n\", time_diff.value_counts())"
   ]
  },
  {
   "cell_type": "code",
   "execution_count": 19,
   "metadata": {},
   "outputs": [
    {
     "name": "stdout",
     "output_type": "stream",
     "text": [
      "Number of unique timestamps: 6025\n",
      "Total records: 1048575\n"
     ]
    }
   ],
   "source": [
    "unique_timestamps = weather_df['obs_tms_lcl'].nunique()\n",
    "total_records = len(weather_df)\n",
    "print(\"Number of unique timestamps:\", unique_timestamps)\n",
    "print(\"Total records:\", total_records)"
   ]
  },
  {
   "cell_type": "code",
   "execution_count": 20,
   "metadata": {},
   "outputs": [
    {
     "name": "stdout",
     "output_type": "stream",
     "text": [
      "Total unique days: 126\n",
      "Distribution of timestamp counts per day:\n",
      "obs_tms_lcl\n",
      "48    124\n",
      "36      1\n",
      "37      1\n",
      "Name: count, dtype: int64\n",
      "Not all days have 24 unique timestamps.\n"
     ]
    }
   ],
   "source": [
    "# First, get the unique datetime stamps from the DataFrame.\n",
    "unique_times = weather_df['obs_tms_lcl'].drop_duplicates()\n",
    "\n",
    "# Group timestamps by date and count how many unique timestamps appear each day.\n",
    "daily_counts = unique_times.groupby(unique_times.dt.date).count()\n",
    "\n",
    "# Print the total number of unique days (in a complete 4-year dataset this should be 4*365 = 1460)\n",
    "print(\"Total unique days:\", len(daily_counts))\n",
    "\n",
    "# Print the distribution of daily counts – ideally, each day should have 24 timestamps.\n",
    "print(\"Distribution of timestamp counts per day:\")\n",
    "print(daily_counts.value_counts())\n",
    "\n",
    "# Optionally, check if every day has 24 timestamps:\n",
    "if (daily_counts == 24).all():\n",
    "    print(\"All days have 24 unique timestamps.\")\n",
    "else:\n",
    "    print(\"Not all days have 24 unique timestamps.\")"
   ]
  }
 ],
 "metadata": {
  "kernelspec": {
   "display_name": "load_forecasting_env",
   "language": "python",
   "name": "python3"
  },
  "language_info": {
   "codemirror_mode": {
    "name": "ipython",
    "version": 3
   },
   "file_extension": ".py",
   "mimetype": "text/x-python",
   "name": "python",
   "nbconvert_exporter": "python",
   "pygments_lexer": "ipython3",
   "version": "3.11.11"
  }
 },
 "nbformat": 4,
 "nbformat_minor": 2
}
